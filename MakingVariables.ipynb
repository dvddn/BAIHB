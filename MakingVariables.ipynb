{
 "cells": [
  {
   "cell_type": "code",
   "execution_count": null,
   "metadata": {},
   "outputs": [],
   "source": [
    "#============================================= Libraries ==============================================================\n",
    "import pandas as pd\n",
    "import numpy as np\n",
    "from datetime import datetime, timedelta"
   ]
  },
  {
   "cell_type": "code",
   "execution_count": null,
   "metadata": {},
   "outputs": [],
   "source": [
    "#============================================= Data Path ==============================================================\n",
    "path_feat = \"\"\n",
    "path_feat2 = \"\"\n",
    "path_out = \"\""
   ]
  },
  {
   "cell_type": "code",
   "execution_count": null,
   "metadata": {},
   "outputs": [],
   "source": [
    "#============================================= Data Import ============================================================\n",
    "df1 = pd.read_csv(path_feat)\n",
    "df2 = pd.read_csv(path_feat2)\n",
    "df = pd.concat([df1,df2])\n",
    "df.reset_index(drop=True, inplace=True)\n",
    "df.date = df.date.apply(lambda x: pd.to_timedate(x[0:7], format='%Y-%m'))\n",
    "df = df.groupby(['stock','date'], as_index=False).first()"
   ]
  },
  {
   "cell_type": "code",
   "execution_count": null,
   "metadata": {},
   "outputs": [],
   "source": [
    "#============================================= Functions ==============================================================\n",
    "def make_reg_variable(df, names, nd):\n",
    "    for name in names:\n",
    "        df['{}_trend_{}'.format(name,nd)] = df['{}'.format(name)].rolling(nd).corr(df['Unnamed: 0'])\n",
    "        df['{}_trend_{}'.format(name,nd*2)] = df['{}'.format(name)].rolling(nd*2).corr(df['Unnamed: 0'])\n",
    "        df['{}_trend_{}'.format(name,nd*5)] = df['{}'.format(name)].rolling(nd*5).corr(df['Unnamed: 0'])\n",
    "    return df\n",
    "\n",
    "def make_change_variable(df, names):\n",
    "    for name in names:\n",
    "        df['{}_change'.format(name)] = df['{}'.format(name)]/df['{}'.format(name)].shift(1) - 1\n",
    "    return df\n",
    "\n",
    "def make_12_trailing(df, names):\n",
    "    for name in names:\n",
    "        df['{}_12m_trail'.format(name)] = df['{}'.format(name)].rolling(12).mean()\n",
    "    return df\n",
    "\n",
    "def resample_3mo(df):\n",
    "    df.set_index('date', inplace=True)\n",
    "    y = df.resample('3m').last()\n",
    "    return y\n",
    "\n",
    "def resample_1mo(df):\n",
    "    df.set_index('date', inplace=True)\n",
    "    y = df.resample('BM').pad()\n",
    "    y = y.fillna(method='ffill')\n",
    "    return y\n",
    "\n",
    "def last_day_of_month(date):\n",
    "    if date.month == 12:\n",
    "        return date.replace(day=31)\n",
    "    return date.replace(month=date.month+1, day=1) - timedelta(days=1)"
   ]
  },
  {
   "cell_type": "code",
   "execution_count": null,
   "metadata": {},
   "outputs": [],
   "source": [
    "#============================================= Data Cleaning ==========================================================\n",
    "df.date = df.date.apply(lambda x: last_day_of_month(x))\n",
    "df = df.groupby('stock', as_index=False).apply(resample_3mo)\n",
    "df['EBITDARD'] = df.EBITDA + df.IS_RD_EXPEND\n",
    "\n",
    "col_reg = ['SPS','OCF','GPOA','RETURN_COM_EQY']\n",
    "col_rate = ['DSI', 'DSR', 'TURNOVER', 'BS_TOT_ASSET', 'AQI', 'DEPI', 'GMI', 'DEBT']\n",
    "col_trail = ['EBIT', 'CAPEX_ABSOLUTE_VALUE', 'EXTERN_EQY_FNC', 'SALES_REV_TURN', 'NET_INCOME',\n",
    "            'CF_CASH_FROM_OPER', 'CF_FREE_CASH_FLOW', 'EBITDA', 'EBITDARD', 'NET_INCOME']\n",
    "col_vol = ['ACC']\n",
    "\n",
    "df = df.groupby('stock', as_index=False).apply(make_12_trailing, col_trail)"
   ]
  },
  {
   "cell_type": "code",
   "execution_count": null,
   "metadata": {},
   "outputs": [],
   "source": [
    "#============================================= Define Variables =======================================================\n",
    "df['DE'] = df.SHORT_AND_LONG_TERM_DEBT/df.TOT_COMMON_EQY\n",
    "df['DEBITDA'] = df.SHORT_AND_LONG_TERM_DEBT/df.EBITDA\n",
    "df['LTDE'] = df.BS_LT_BORROW/df.TOT_COMMON_EQY\n",
    "df['LTDEBITDA'] = df.BS_LT_BORROW/df.EBITDA\n",
    "df['NDE'] = df.NET_DEBT/df.TOT_COMMON_EQY\n",
    "df['NDEBITDA'] = df.NET_DEBT/df.EBITDA\n",
    "df['EBITCOVER'] = df.EBIT_12m_trail/df.IS_INT_EXPENSE\n",
    "df['SPS'] = df.SALES_REV_TURN/df.BS_SH_OUT\n",
    "df['OCF'] = df.CF_CASH_FROM_OPER/df.BS_SH_OUT\n",
    "df['GPOA'] = df.GROSS_PROFIT/df.BS_TOT_ASSET\n",
    "df['ACCTAF'] = (df.NET_INCOME - df.CF_CASH_FROM_OPER)/df.BS_TOT_ASSET\n",
    "df['DSI'] = df.BS_INVENTORIES/df.SALES_REV_TURN\n",
    "df['DSR'] = df.BS_ACCT_NOTE_RCV/df.SALES_REV_TURN\n",
    "df['TURNOVER'] = df.BS_TOT_ASSET/df.SALES_REV_TURN\n",
    "df['AQI'] = df.BS_CUR_ASSET/df.SALES_REV_TURN\n",
    "df['DEPI'] = df.IS_DEPR_EXP/df.FIXED_ASSETS_AND_LT_INVESTMENTS\n",
    "df['ACC'] = df.BS_ACCRUAL/df.BS_TOT_ASSET\n",
    "df['GMI'] = df.GROSS_PROFIT/df.SALES_REV_TURN\n",
    "df['DEBT'] = df.SHORT_AND_LONG_TERM_DET/df.BS_TOT_ASSET\n",
    "df['CAPEXPPE'] = df.CAPEX_ABSOLUTE_VALUE_12m_trail/df.FIXED_ASSETS_AND_LT_INVESTMENTS\n",
    "df['EXTFA'] = df.EXTERN_EQY_FNC_12m_trail/df.BS_TOT_ASSET\n",
    "df['PSALES'] = df.SALES_REV_TURN_12m_trail/df.CUR_MKT_CAP\n",
    "df['PE'] = df.NET_INCOME_12m_trail/df.CUR_MKT_CAP\n",
    "df['POCF'] = df.CF_CASH_FROM_OPER_12m_trail/df.CUR_MKT_CAP\n",
    "df['PFCF'] = df.CF_FREE_CASH_FLOW_12m_trail/df.CUR_MKT_CAP\n",
    "df['EVSALES'] = df.SALES_REV_TURN_12m_trail/df.CURR_ENTP_VAL\n",
    "df['EVEBIT'] = df.EBIT_12m_trail/df.CURR_ENTP_VAL\n",
    "df['EVFCF'] = df.CF_FREE_CASH_FLOW_12m_trail/df.CURR_ENTP_VAL\n",
    "df['EVOCF'] = df.CF_CASH_FROM_OPER_12m_trail/df.CURR_ENTP_VAL\n",
    "df['EVEBITDA'] = df.EBITDA_12m_trail/df.CURR_ENTP_VAL\n",
    "df['EVEBITDARD'] = df.EBITDARD_12m_trail/df.CURR_ENTP_VAL\n",
    "df['PB'] = df.TOT_COMMON_EQY/df.CUR_MKT_CAP\n",
    "df['PTB'] = (df.TOT_COMMON_EQY - df.BS_DISCLOSED_INTANGIBLES)/df.CUR_MKT_CAP\n",
    "df['ROE'] = df.NET_INCOME_12m_trail/df.TOT_COMMON_EQY\n",
    "df['ROA'] = df.NET_INCOME_12m_trail/df.BS_TOT_ASSET\n",
    "df['OPRDA'] = df.EBITDARD_12m_trail/df.BS_TOT_ASSET\n",
    "df['ROIC'] = df.NET_INCOME_12m_trail/df.TOTAL_INVESTED_CAPITAL\n",
    "df['OPRDIC'] = df.EBITDARD_12m_trail/df.TOTAL_INVESTED_CAPITAL\n",
    "df['FCFROIC'] = df.CF_FREE_CASH_FLOW_12m_trail/df.TOTAL_INVESTED_CAPITAL"
   ]
  },
  {
   "cell_type": "code",
   "execution_count": null,
   "metadata": {},
   "outputs": [],
   "source": [
    "df = df.groupby('stock', as_index=False).apply(make_reg_variable, col_reg, 4)\n",
    "df = df.groupby('stock', as_index=False).apply(make_change_variable, col_rate)"
   ]
  },
  {
   "cell_type": "code",
   "execution_count": null,
   "metadata": {},
   "outputs": [],
   "source": [
    "df.to_csv(path_out)"
   ]
  }
 ],
 "metadata": {
  "kernelspec": {
   "display_name": "Python 3",
   "language": "python",
   "name": "python3"
  },
  "language_info": {
   "codemirror_mode": {
    "name": "ipython",
    "version": 3
   },
   "file_extension": ".py",
   "mimetype": "text/x-python",
   "name": "python",
   "nbconvert_exporter": "python",
   "pygments_lexer": "ipython3",
   "version": "3.6.4"
  }
 },
 "nbformat": 4,
 "nbformat_minor": 2
}
