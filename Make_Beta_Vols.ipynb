{
 "cells": [
  {
   "cell_type": "code",
   "execution_count": null,
   "metadata": {},
   "outputs": [],
   "source": [
    "#============================================= Libraries ==============================================================\n",
    "import pandas as pd\n",
    "import numpy as np\n",
    "import math"
   ]
  },
  {
   "cell_type": "code",
   "execution_count": null,
   "metadata": {},
   "outputs": [],
   "source": [
    "#============================================= Data Path ==============================================================\n",
    "path_prices = \n",
    "path feat = \n",
    "path_spx = \n",
    "path_out = \n",
    "path_out2 =\n",
    "num_days = 125"
   ]
  },
  {
   "cell_type": "code",
   "execution_count": null,
   "metadata": {},
   "outputs": [],
   "source": [
    "#============================================= Functions ==============================================================\n",
    "\n",
    "def compute_returns(x):\n",
    "    x.sort_values('date', inplace=True)\n",
    "    x['returns'] = x.PX_LAST/x.PX_LAST.shift(1) - 1\n",
    "    x['logreturns'] = x.PX_LAST.apply(lambda y: math.log(y)) - \\\n",
    "                      x.PX_LAST.shift(1).apply(lambda y: math.log(y))\n",
    "    return x\n",
    "\n",
    "def compute_vol(x, nd):\n",
    "    x.sort_values('date', inplace=True)\n",
    "    x['vol_{}d'.format(nd)] = x.logreturns.rolling(nd).std()\n",
    "    x['vol_{}d'.format(2*nd)] = x.logreturns.rolling(2*nd).std()\n",
    "    return x\n",
    "\n",
    "def compute_beta(x, y, nd):\n",
    "    x = x.merge(y, how='inner', on='date')\n",
    "    x['return_beta_adj'] = x.returns - x.SPX_returns\n",
    "    x['beta_{}d'.format(nd)] = x.returns.rolling(nd).corr(x.SPX_returns)* \\\n",
    "                               x['vol_{}d'.format(nd)]/x['SPX_vol_{}d'.format(nd)]\n",
    "    x['beta_{}d'.format(2*nd)] = x.returns.rolling(2*nd).corr(x.SPX_returns)* \\\n",
    "                               x['vol_{}d'.format(2*nd)]/x['SPX_vol_{}d'.format(2*nd)]\n",
    "    x['vol_beta_ret_20d'] = x.return_beta_adj.rolling(20).std()\n",
    "    x['vol_beta_ret_62d'] = x.return_beta_adj.rolling(62).std()\n",
    "    x['vol_beta_ret_250d'] = x.return_beta_adj.rolling(250).std()\n",
    "    return x\n",
    "\n",
    "def make_monthly_variables(x):\n",
    "    filtered_cols = [col for col in x if (col.startswith('vol'))|(col.startswith('beta'))]\n",
    "    x = x[filtered_cols + ['date', 'stock', 'PX_LAST', 'SPX']]\n",
    "    x = x.set_index('date', drop=True)\n",
    "    x['PX_SHIFTED'] = x.PX_LAST.shift(-2)\n",
    "    y = x.resample('1m').last()\n",
    "    y['R1M_shifted'] = y.PX_LAST.shift(-1)/y.PX_SHIFTED - 1\n",
    "    y['R1M'] = y.PX_LAST/y.PX_LAST.shift(1) - 1\n",
    "    y['SPX1M'] = y.SPX/y.SPX.shift(1) - 1\n",
    "    y['IREV1M'] = y.R1M - y.SPX1M\n",
    "    y['IREVVOL1M'] = y.IREV1M/y.vol_beta_ret_20d\n",
    "    y['R3M'] = y.PX_LAST/y.PX_LAST.shift(3) - 1\n",
    "    y['SPX3M'] = y.SPX/y.SPX.shift(3) - 1\n",
    "    y['IREV3M'] = y.R3M - y.SPX3M\n",
    "    y['IREVVOL3M'] = y.IREV3M/y.vol_beta_ret_62d\n",
    "    y['R12M'] = y.PX_LAST/y.PX_LAST.shift(12) - 1\n",
    "    y['SPX12M'] = y.SPX/y.SPX.shift(12) - 1\n",
    "    y['IREV12M'] = y.R12M - y.SPX12M\n",
    "    y['IREVVOL12M'] = y.IREV12M/y.vol_beta_ret_250d\n",
    "    return y\n",
    "\n",
    "def make_3monthly(x):\n",
    "    x.set_index('date', inplace=True. drop=True)\n",
    "    y = x.resample('3m').last()\n",
    "    return y.reset_index()"
   ]
  },
  {
   "cell_type": "code",
   "execution_count": null,
   "metadata": {},
   "outputs": [],
   "source": [
    "#============================================= Data Import ============================================================\n",
    "prices = pd.read_csv(path_prices)\n",
    "spx = pd.read_csv(path_spx)"
   ]
  },
  {
   "cell_type": "code",
   "execution_count": null,
   "metadata": {},
   "outputs": [],
   "source": [
    "#============================================= First Cleaning =========================================================\n",
    "prices = prices[['date_num', 'Close', 'stock']].rename(columns={'Close':'PX_LAST'})\n",
    "spx = spx[['Date', 'Adj Close']].rename(columns={'Date':'date',\n",
    "                                                 'Adj Close':'PX_LAST'})\n",
    "prices['date'] = pd.to_datetime(prices.date_num.astype('str'), format='%Y%m%d')\n",
    "spx.date = pd.to_datetime(spx.date, format='%Y-%m-%d')\n",
    "prices.drop('date_num', axis=1, inplace=True)\n",
    "prices.PX_LAST[prices.PX_LAST == 0] = np.nan"
   ]
  },
  {
   "cell_type": "code",
   "execution_count": null,
   "metadata": {},
   "outputs": [],
   "source": [
    "#============================================= Make Returns and Volatilities ==========================================\n",
    "aggprices = prices.groupby('stock', as_index=False).apply(compute_returns)\n",
    "aggprices = aggprices.groupby('stock', as_index=False).apply(compute_vol, num_days)\n",
    "spx = compute_returns(spx)\n",
    "spx = compute_vol(spx, num_days).rename(columns={\n",
    "    'PX_LAST':'SPX',\n",
    "    'returns':'SPX_returns',\n",
    "    'vol_{}d'.format(num_days):'SPX_vol_{}d'.format(num_days),\n",
    "    'vol_{}d'.format(2*num_days):'SPX_vol_{}d'.format(2*num_days),    \n",
    "})\n",
    "spx.drop('logreturns', axis=1, inplace=True)"
   ]
  },
  {
   "cell_type": "code",
   "execution_count": null,
   "metadata": {},
   "outputs": [],
   "source": [
    "#============================================= Make Beta Variable =====================================================\n",
    "test = aggprices.groupby('stock', as_index=False).apply(compute_beta, spx, num_days)\n",
    "drop_col= ['SPX_vol_{}d'.format(num_days), 'SPX_vol_{}d'.format(2*num_days)]\n",
    "test.drop(drop_col, axis=1, inplace=True)"
   ]
  },
  {
   "cell_type": "code",
   "execution_count": null,
   "metadata": {},
   "outputs": [],
   "source": [
    "#============================================= Make Monthly ===========================================================\n",
    "final = test.groupby('stock', as_index=False).apply(make_monthly_variables)"
   ]
  },
  {
   "cell_type": "code",
   "execution_count": null,
   "metadata": {},
   "outputs": [],
   "source": [
    "#============================================= Clean and Save =========================================================\n",
    "final.reset_index(inplace=True)\n",
    "final.drop(['level_0','PX_SHIFTED'], axis=1, inplace=True)\n",
    "final.to_csv(path_out)"
   ]
  }
 ],
 "metadata": {
  "kernelspec": {
   "display_name": "Python 3",
   "language": "python",
   "name": "python3"
  },
  "language_info": {
   "codemirror_mode": {
    "name": "ipython",
    "version": 3
   },
   "file_extension": ".py",
   "mimetype": "text/x-python",
   "name": "python",
   "nbconvert_exporter": "python",
   "pygments_lexer": "ipython3",
   "version": "3.6.4"
  }
 },
 "nbformat": 4,
 "nbformat_minor": 2
}
