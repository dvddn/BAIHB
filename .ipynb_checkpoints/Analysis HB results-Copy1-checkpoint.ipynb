{
 "cells": [
  {
   "cell_type": "code",
   "execution_count": 1,
   "metadata": {},
   "outputs": [],
   "source": [
    "import pickle\n",
    "import pandas as pd"
   ]
  },
  {
   "cell_type": "code",
   "execution_count": 2,
   "metadata": {},
   "outputs": [],
   "source": [
    "with open('results_log.pkl', 'rb') as handle:\n",
    "    res = pickle.load(handle)"
   ]
  },
  {
   "cell_type": "code",
   "execution_count": 3,
   "metadata": {},
   "outputs": [],
   "source": [
    "losses = res.evals.L"
   ]
  },
  {
   "cell_type": "code",
   "execution_count": 4,
   "metadata": {},
   "outputs": [],
   "source": [
    "import seaborn as sb"
   ]
  },
  {
   "cell_type": "code",
   "execution_count": 48,
   "metadata": {
    "scrolled": true
   },
   "outputs": [
    {
     "data": {
      "text/plain": [
       "[(0.75, 0.85)]"
      ]
     },
     "execution_count": 48,
     "metadata": {},
     "output_type": "execute_result"
    },
    {
     "data": {
      "image/png": "[encoded data removed]",
      "text/plain": [
       "<Figure size 432x288 with 1 Axes>"
      ]
     },
     "metadata": {
      "needs_background": "light"
     },
     "output_type": "display_data"
    }
   ],
   "source": [
    "ax = sb.distplot(losses, bins=100)\n",
    "ax.set(xlim=(0.75, 0.85))"
   ]
  },
  {
   "cell_type": "code",
   "execution_count": 6,
   "metadata": {},
   "outputs": [],
   "source": [
    "etas = [x[-1] for x in res.evals.conf]"
   ]
  },
  {
   "cell_type": "code",
   "execution_count": 7,
   "metadata": {},
   "outputs": [
    {
     "data": {
      "text/plain": [
       "[0.12733170916093925,\n",
       " 0.09624379988758094,\n",
       " 0.22629371997436037,\n",
       " 0.06939261720030025,\n",
       " 0.0016130780417726149,\n",
       " 0.009962482004251469,\n",
       " 0.03591783724463581,\n",
       " 0.009335447375733247,\n",
       " 0.09442111002153232,\n",
       " 0.04616722203917984,\n",
       " 0.21237442783998095,\n",
       " 0.11379543587704126,\n",
       " 0.05122375339720821,\n",
       " 0.15534083415493963,\n",
       " 0.46817524847620184,\n",
       " 0.00781148047442078,\n",
       " 0.16541631681302213,\n",
       " 0.29631341193267,\n",
       " 0.2771237089600335,\n",
       " 0.10666765531230299,\n",
       " 0.15681385190345346,\n",
       " 0.03688548606923666,\n",
       " 0.0063196931828614,\n",
       " 0.00305019770201453,\n",
       " 0.32034279899078083,\n",
       " 0.026005908981476682,\n",
       " 0.0648705075421421,\n",
       " 0.4248732584430128,\n",
       " 0.011705420454815593,\n",
       " 0.0044016082434999455,\n",
       " 0.010297651062329343,\n",
       " 0.011405891074098784,\n",
       " 0.326291741596148,\n",
       " 0.35349481768964364,\n",
       " 0.059029575536498666,\n",
       " 0.14538779798324517,\n",
       " 0.0027368896540110182,\n",
       " 0.016821222708855568,\n",
       " 0.2434418031464571,\n",
       " 0.007561802655207266,\n",
       " 0.1807689900917018,\n",
       " 0.12398977744576935,\n",
       " 0.011638554818258881,\n",
       " 0.05630420084649984,\n",
       " 0.06306963258757903,\n",
       " 0.0033167178195057257,\n",
       " 0.01241992098977749,\n",
       " 0.44089954000913345,\n",
       " 0.1716791849773127,\n",
       " 0.13454237780462525,\n",
       " 0.001864846084627296,\n",
       " 0.0967752333137349,\n",
       " 0.2774212569504957,\n",
       " 0.00428989347443251,\n",
       " 0.12030913343651725,\n",
       " 0.0017183197928600862,\n",
       " 0.2144509810890052,\n",
       " 0.22190769102904598,\n",
       " 0.1240043251988551,\n",
       " 0.08052033156279721,\n",
       " 0.04098713625850138,\n",
       " 0.006673380739434842,\n",
       " 0.0016243331580697228,\n",
       " 0.24714219756393654,\n",
       " 0.16533427215528498,\n",
       " 0.0751888442997456,\n",
       " 0.0898754400420856,\n",
       " 0.06122490517656297,\n",
       " 0.0012890634234666673,\n",
       " 0.06602371716790399,\n",
       " 0.002506090463871198,\n",
       " 0.3375068632774265,\n",
       " 0.12147133329984615,\n",
       " 0.26645239477369664,\n",
       " 0.4594567650677186,\n",
       " 0.31212920249423,\n",
       " 0.003970369120285767,\n",
       " 0.27669136615181517,\n",
       " 0.0014540207974978049,\n",
       " 0.06078784921680821,\n",
       " 0.48019031809952173,\n",
       " 0.10290477826628272,\n",
       " 0.4897925125559101,\n",
       " 0.11703623478094956,\n",
       " 0.06755726548292564,\n",
       " 0.006584700982500727,\n",
       " 0.006120622294195708,\n",
       " 0.411699241225703,\n",
       " 0.12102387539201906,\n",
       " 0.3291948893193564,\n",
       " 0.11794528258838533,\n",
       " 0.202940712132893,\n",
       " 0.07095270121516849,\n",
       " 0.213879428441964,\n",
       " 0.0020236618801558566,\n",
       " 0.21933811216235205,\n",
       " 0.2294819953048311,\n",
       " 0.058447073418243504,\n",
       " 0.13985696404922515,\n",
       " 0.12657040814238893,\n",
       " 0.09232427157865591,\n",
       " 0.004354137099308546,\n",
       " 0.018832551994011328,\n",
       " 0.0011367772986804064,\n",
       " 0.368831232486484,\n",
       " 0.09321933423852574,\n",
       " 0.28523173072273117,\n",
       " 0.10171840522728105,\n",
       " 0.04337882892376529,\n",
       " 0.0020489319545175322,\n",
       " 0.018955674390885434,\n",
       " 0.024760165749492864,\n",
       " 0.1750485379895452,\n",
       " 0.19682010888110077,\n",
       " 0.4306757967847131,\n",
       " 0.06487809127011514,\n",
       " 0.09230874640558243,\n",
       " 0.058796707770521185,\n",
       " 0.0020057010885531764,\n",
       " 0.015347436687331677,\n",
       " 0.17267070453618838,\n",
       " 0.12009017527843352,\n",
       " 0.005006201109175439,\n",
       " 0.001248313778531056,\n",
       " 0.1198372640436042,\n",
       " 0.001576679663678844,\n",
       " 0.008796445821392837,\n",
       " 0.039059991618478104,\n",
       " 0.3321243932204076,\n",
       " 0.16959897106339936,\n",
       " 0.002260171839104181,\n",
       " 0.03680565137897618,\n",
       " 0.016375377418866598,\n",
       " 0.10365524821713958,\n",
       " 0.001418838533986349,\n",
       " 0.0011152229070953228,\n",
       " 0.18062833941726217,\n",
       " 0.3403667308962944,\n",
       " 0.05898780523695602,\n",
       " 0.17851183640521684,\n",
       " 0.002570433893538858,\n",
       " 0.022898806905453126,\n",
       " 0.05948826239382051,\n",
       " 0.20178398999797167,\n",
       " 0.11918291632492584,\n",
       " 0.07470521416725041,\n",
       " 0.07213001317644331,\n",
       " 0.1718911928474286,\n",
       " 0.011037302165325962,\n",
       " 0.41903766108022333,\n",
       " 0.006030354844318558,\n",
       " 0.20191602079116175,\n",
       " 0.4027117922638833,\n",
       " 0.256600769713072,\n",
       " 0.3400363968772602,\n",
       " 0.49155142557200154,\n",
       " 0.014064501283645555,\n",
       " 0.004260788606844851,\n",
       " 0.011740780171771626,\n",
       " 0.001805964357825855]"
      ]
     },
     "execution_count": 7,
     "metadata": {},
     "output_type": "execute_result"
    }
   ],
   "source": [
    "etas"
   ]
  },
  {
   "cell_type": "code",
   "execution_count": 54,
   "metadata": {
    "scrolled": false
   },
   "outputs": [
    {
     "data": {
      "image/png": "[encoded data removed]",
      "text/plain": [
       "<Figure size 432x288 with 1 Axes>"
      ]
     },
     "metadata": {
      "needs_background": "light"
     },
     "output_type": "display_data"
    }
   ],
   "source": [
    "ax = sb.distplot(etas)\n",
    "ax.set_xscale('log')"
   ]
  },
  {
   "cell_type": "code",
   "execution_count": 36,
   "metadata": {},
   "outputs": [],
   "source": [
    "losses2 = res.evals[res.evals.etas < 0.01].L"
   ]
  },
  {
   "cell_type": "code",
   "execution_count": 37,
   "metadata": {},
   "outputs": [
    {
     "name": "stderr",
     "output_type": "stream",
     "text": [
      "/home/dine/Documents/environments/ML1/lib/python3.6/site-packages/statsmodels/nonparametric/kde.py:488: RuntimeWarning: invalid value encountered in true_divide\n",
      "  binned = fast_linbin(X, a, b, gridsize) / (delta * nobs)\n",
      "/home/dine/Documents/environments/ML1/lib/python3.6/site-packages/statsmodels/nonparametric/kdetools.py:34: RuntimeWarning: invalid value encountered in double_scalars\n",
      "  FAC1 = 2*(np.pi*bw/RANGE)**2\n"
     ]
    },
    {
     "data": {
      "text/plain": [
       "[(0.75, 0.85)]"
      ]
     },
     "execution_count": 37,
     "metadata": {},
     "output_type": "execute_result"
    },
    {
     "data": {
      "image/png": "[encoded data removed]",
      "text/plain": [
       "<Figure size 432x288 with 1 Axes>"
      ]
     },
     "metadata": {
      "needs_background": "light"
     },
     "output_type": "display_data"
    }
   ],
   "source": [
    "ax = sb.distplot(losses2)\n",
    "ax.set(xlim=(0.75, 0.85))"
   ]
  },
  {
   "cell_type": "code",
   "execution_count": 10,
   "metadata": {
    "scrolled": true
   },
   "outputs": [
    {
     "data": {
      "text/plain": [
       "count    80.000000\n",
       "mean      0.791546\n",
       "std       0.111259\n",
       "min       0.500000\n",
       "25%       0.823652\n",
       "50%       0.834624\n",
       "75%       0.839885\n",
       "max       0.842886\n",
       "Name: L, dtype: float64"
      ]
     },
     "execution_count": 10,
     "metadata": {},
     "output_type": "execute_result"
    }
   ],
   "source": [
    "res.evals.L[0].describe()"
   ]
  },
  {
   "cell_type": "code",
   "execution_count": 11,
   "metadata": {},
   "outputs": [
    {
     "data": {
      "text/plain": [
       "count    40.000000\n",
       "mean      0.747723\n",
       "std       0.145029\n",
       "min       0.500000\n",
       "25%       0.734924\n",
       "50%       0.826347\n",
       "75%       0.833622\n",
       "max       0.842850\n",
       "Name: L, dtype: float64"
      ]
     },
     "execution_count": 11,
     "metadata": {},
     "output_type": "execute_result"
    }
   ],
   "source": [
    "res.evals.L[1].describe()"
   ]
  },
  {
   "cell_type": "code",
   "execution_count": 12,
   "metadata": {},
   "outputs": [
    {
     "data": {
      "text/plain": [
       "count    20.000000\n",
       "mean      0.649103\n",
       "std       0.169186\n",
       "min       0.500000\n",
       "25%       0.500000\n",
       "50%       0.500000\n",
       "75%       0.826804\n",
       "max       0.842383\n",
       "Name: L, dtype: float64"
      ]
     },
     "execution_count": 12,
     "metadata": {},
     "output_type": "execute_result"
    }
   ],
   "source": [
    "res.evals.L[2].describe()"
   ]
  },
  {
   "cell_type": "code",
   "execution_count": 13,
   "metadata": {},
   "outputs": [
    {
     "data": {
      "text/plain": [
       "count    20.000000\n",
       "mean      0.694562\n",
       "std       0.163183\n",
       "min       0.500000\n",
       "25%       0.500000\n",
       "50%       0.813567\n",
       "75%       0.824533\n",
       "max       0.840354\n",
       "Name: L, dtype: float64"
      ]
     },
     "execution_count": 13,
     "metadata": {},
     "output_type": "execute_result"
    }
   ],
   "source": [
    "res.evals.L[3].describe()"
   ]
  },
  {
   "cell_type": "code",
   "execution_count": 14,
   "metadata": {},
   "outputs": [
    {
     "data": {
      "text/plain": [
       "0.425"
      ]
     },
     "execution_count": 14,
     "metadata": {},
     "output_type": "execute_result"
    }
   ],
   "source": [
    "(pd.Series([x[-1] for x in res.evals.conf[0]]) < 0.1).mean()"
   ]
  },
  {
   "cell_type": "code",
   "execution_count": 15,
   "metadata": {},
   "outputs": [
    {
     "data": {
      "text/plain": [
       "0.575"
      ]
     },
     "execution_count": 15,
     "metadata": {},
     "output_type": "execute_result"
    }
   ],
   "source": [
    "(pd.Series([x[-1] for x in res.evals.conf[1]]) < 0.1).mean()"
   ]
  },
  {
   "cell_type": "code",
   "execution_count": 16,
   "metadata": {},
   "outputs": [
    {
     "data": {
      "text/plain": [
       "0.85"
      ]
     },
     "execution_count": 16,
     "metadata": {},
     "output_type": "execute_result"
    }
   ],
   "source": [
    "(pd.Series([x[-1] for x in res.evals.conf[2]]) < 0.1).mean()"
   ]
  },
  {
   "cell_type": "code",
   "execution_count": 17,
   "metadata": {},
   "outputs": [
    {
     "data": {
      "text/plain": [
       "0.85"
      ]
     },
     "execution_count": 17,
     "metadata": {},
     "output_type": "execute_result"
    }
   ],
   "source": [
    "(pd.Series([x[-1] for x in res.evals.conf[2]]) < 0.1).mean()"
   ]
  },
  {
   "cell_type": "code",
   "execution_count": 19,
   "metadata": {},
   "outputs": [],
   "source": [
    "reindexed = res.evals.conf.reset_index(drop=True)"
   ]
  },
  {
   "cell_type": "code",
   "execution_count": 44,
   "metadata": {},
   "outputs": [],
   "source": [
    "searched = [x[-1] for x in reindexed[(reindexed.index)%8 == 0]]\n"
   ]
  },
  {
   "cell_type": "code",
   "execution_count": 37,
   "metadata": {},
   "outputs": [
    {
     "data": {
      "text/plain": [
       "count    160.000000\n",
       "mean       0.125763\n",
       "std        0.132007\n",
       "min        0.001115\n",
       "25%        0.011580\n",
       "50%        0.085198\n",
       "75%        0.198061\n",
       "max        0.491551\n",
       "dtype: float64"
      ]
     },
     "execution_count": 37,
     "metadata": {},
     "output_type": "execute_result"
    }
   ],
   "source": [
    "pd.Series(etas).describe()"
   ]
  },
  {
   "cell_type": "code",
   "execution_count": 51,
   "metadata": {},
   "outputs": [
    {
     "data": {
      "text/plain": [
       "[0.09624379988758094,\n",
       " 0.04616722203917984,\n",
       " 0.29631341193267,\n",
       " 0.026005908981476682,\n",
       " 0.35349481768964364,\n",
       " 0.12398977744576935,\n",
       " 0.13454237780462525,\n",
       " 0.22190769102904598,\n",
       " 0.0751888442997456,\n",
       " 0.26645239477369664,\n",
       " 0.10290477826628272,\n",
       " 0.3291948893193564,\n",
       " 0.058447073418243504,\n",
       " 0.09321933423852574,\n",
       " 0.19682010888110077,\n",
       " 0.12009017527843352,\n",
       " 0.16959897106339936,\n",
       " 0.3403667308962944,\n",
       " 0.07470521416725041,\n",
       " 0.256600769713072]"
      ]
     },
     "execution_count": 51,
     "metadata": {},
     "output_type": "execute_result"
    }
   ],
   "source": [
    "searched2"
   ]
  }
 ],
 "metadata": {
  "kernelspec": {
   "display_name": "Python 3",
   "language": "python",
   "name": "python3"
  },
  "language_info": {
   "codemirror_mode": {
    "name": "ipython",
    "version": 3
   },
   "file_extension": ".py",
   "mimetype": "text/x-python",
   "name": "python",
   "nbconvert_exporter": "python",
   "pygments_lexer": "ipython3",
   "version": "3.6.7"
  },
  "varInspector": {
   "cols": {
    "lenName": 16,
    "lenType": 16,
    "lenVar": 40
   },
   "kernels_config": {
    "python": {
     "delete_cmd_postfix": "",
     "delete_cmd_prefix": "del ",
     "library": "var_list.py",
     "varRefreshCmd": "print(var_dic_list())"
    },
    "r": {
     "delete_cmd_postfix": ") ",
     "delete_cmd_prefix": "rm(",
     "library": "var_list.r",
     "varRefreshCmd": "cat(var_dic_list()) "
    }
   },
   "types_to_exclude": [
    "module",
    "function",
    "builtin_function_or_method",
    "instance",
    "_Feature"
   ],
   "window_display": false
  }
 },
 "nbformat": 4,
 "nbformat_minor": 2
}
