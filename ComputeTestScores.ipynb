{
 "cells": [
  {
   "cell_type": "code",
   "execution_count": 4,
   "metadata": {},
   "outputs": [],
   "source": [
    "import pandas as pd\n",
    "import xgboost as xgb\n",
    "import numpy as np\n",
    "import pickle\n",
    "from sklearn.metrics import auc\n",
    "import os"
   ]
  },
  {
   "cell_type": "code",
   "execution_count": 8,
   "metadata": {},
   "outputs": [],
   "source": [
    "with open('results_TS_2.pkl','rb') as handle:\n",
    "    res = pickle.load(handle)"
   ]
  },
  {
   "cell_type": "code",
   "execution_count": 18,
   "metadata": {},
   "outputs": [
    {
     "data": {
      "text/html": [
       "<div>\n",
       "<style scoped>\n",
       "    .dataframe tbody tr th:only-of-type {\n",
       "        vertical-align: middle;\n",
       "    }\n",
       "\n",
       "    .dataframe tbody tr th {\n",
       "        vertical-align: top;\n",
       "    }\n",
       "\n",
       "    .dataframe thead th {\n",
       "        text-align: right;\n",
       "    }\n",
       "</style>\n",
       "<table border=\"1\" class=\"dataframe\">\n",
       "  <thead>\n",
       "    <tr style=\"text-align: right;\">\n",
       "      <th></th>\n",
       "      <th>conf</th>\n",
       "      <th>L</th>\n",
       "      <th>Id</th>\n",
       "    </tr>\n",
       "  </thead>\n",
       "  <tbody>\n",
       "    <tr>\n",
       "      <th>0</th>\n",
       "      <td>[8, 0.5322327540548579, 0.555782529822441, 0, ...</td>\n",
       "      <td>0.834656</td>\n",
       "      <td>22</td>\n",
       "    </tr>\n",
       "    <tr>\n",
       "      <th>0</th>\n",
       "      <td>[5, 0.8869178664476828, 0.6365189540996956, 0,...</td>\n",
       "      <td>0.827406</td>\n",
       "      <td>37</td>\n",
       "    </tr>\n",
       "    <tr>\n",
       "      <th>0</th>\n",
       "      <td>[15, 0.5995687555817923, 0.9813411894053805, 0...</td>\n",
       "      <td>0.838892</td>\n",
       "      <td>42</td>\n",
       "    </tr>\n",
       "    <tr>\n",
       "      <th>1</th>\n",
       "      <td>[17, 0.9710786458090017, 0.6667783679318451, 0...</td>\n",
       "      <td>0.841944</td>\n",
       "      <td>44</td>\n",
       "    </tr>\n",
       "    <tr>\n",
       "      <th>0</th>\n",
       "      <td>[18, 0.9178400461528978, 0.9954752403086438, 0...</td>\n",
       "      <td>0.838157</td>\n",
       "      <td>53</td>\n",
       "    </tr>\n",
       "    <tr>\n",
       "      <th>0</th>\n",
       "      <td>[10, 0.6558148806090163, 0.7671638557417351, 0...</td>\n",
       "      <td>0.841553</td>\n",
       "      <td>80</td>\n",
       "    </tr>\n",
       "    <tr>\n",
       "      <th>0</th>\n",
       "      <td>[19, 0.9202958143040014, 0.7989094115290925, 0...</td>\n",
       "      <td>0.834220</td>\n",
       "      <td>88</td>\n",
       "    </tr>\n",
       "    <tr>\n",
       "      <th>1</th>\n",
       "      <td>[14, 0.7202647475072121, 0.6412694418745188, 0...</td>\n",
       "      <td>0.839787</td>\n",
       "      <td>85</td>\n",
       "    </tr>\n",
       "    <tr>\n",
       "      <th>0</th>\n",
       "      <td>[5, 0.934044337323314, 0.9479574218714841, 0, ...</td>\n",
       "      <td>0.842467</td>\n",
       "      <td>102</td>\n",
       "    </tr>\n",
       "    <tr>\n",
       "      <th>0</th>\n",
       "      <td>[10, 0.6994081670743871, 0.5681072947104471, 0...</td>\n",
       "      <td>0.840271</td>\n",
       "      <td>129</td>\n",
       "    </tr>\n",
       "    <tr>\n",
       "      <th>0</th>\n",
       "      <td>[12, 0.552732713797591, 0.7088680630579972, 0,...</td>\n",
       "      <td>0.840684</td>\n",
       "      <td>135</td>\n",
       "    </tr>\n",
       "    <tr>\n",
       "      <th>1</th>\n",
       "      <td>[15, 0.9725986398980677, 0.7530788263051633, 0...</td>\n",
       "      <td>0.842170</td>\n",
       "      <td>132</td>\n",
       "    </tr>\n",
       "  </tbody>\n",
       "</table>\n",
       "</div>"
      ],
      "text/plain": [
       "                                                conf         L   Id\n",
       "0  [8, 0.5322327540548579, 0.555782529822441, 0, ...  0.834656   22\n",
       "0  [5, 0.8869178664476828, 0.6365189540996956, 0,...  0.827406   37\n",
       "0  [15, 0.5995687555817923, 0.9813411894053805, 0...  0.838892   42\n",
       "1  [17, 0.9710786458090017, 0.6667783679318451, 0...  0.841944   44\n",
       "0  [18, 0.9178400461528978, 0.9954752403086438, 0...  0.838157   53\n",
       "0  [10, 0.6558148806090163, 0.7671638557417351, 0...  0.841553   80\n",
       "0  [19, 0.9202958143040014, 0.7989094115290925, 0...  0.834220   88\n",
       "1  [14, 0.7202647475072121, 0.6412694418745188, 0...  0.839787   85\n",
       "0  [5, 0.934044337323314, 0.9479574218714841, 0, ...  0.842467  102\n",
       "0  [10, 0.6994081670743871, 0.5681072947104471, 0...  0.840271  129\n",
       "0  [12, 0.552732713797591, 0.7088680630579972, 0,...  0.840684  135\n",
       "1  [15, 0.9725986398980677, 0.7530788263051633, 0...  0.842170  132"
      ]
     },
     "execution_count": 18,
     "metadata": {},
     "output_type": "execute_result"
    }
   ],
   "source": [
    "res.arms[4].hb.evals"
   ]
  }
 ],
 "metadata": {
  "kernelspec": {
   "display_name": "Python 3",
   "language": "python",
   "name": "python3"
  },
  "language_info": {
   "codemirror_mode": {
    "name": "ipython",
    "version": 3
   },
   "file_extension": ".py",
   "mimetype": "text/x-python",
   "name": "python",
   "nbconvert_exporter": "python",
   "pygments_lexer": "ipython3",
   "version": "3.6.7"
  },
  "varInspector": {
   "cols": {
    "lenName": 16,
    "lenType": 16,
    "lenVar": 40
   },
   "kernels_config": {
    "python": {
     "delete_cmd_postfix": "",
     "delete_cmd_prefix": "del ",
     "library": "var_list.py",
     "varRefreshCmd": "print(var_dic_list())"
    },
    "r": {
     "delete_cmd_postfix": ") ",
     "delete_cmd_prefix": "rm(",
     "library": "var_list.r",
     "varRefreshCmd": "cat(var_dic_list()) "
    }
   },
   "types_to_exclude": [
    "module",
    "function",
    "builtin_function_or_method",
    "instance",
    "_Feature"
   ],
   "window_display": false
  }
 },
 "nbformat": 4,
 "nbformat_minor": 2
}
