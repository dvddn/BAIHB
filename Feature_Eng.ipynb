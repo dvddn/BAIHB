{
 "cells": [
  {
   "cell_type": "code",
   "execution_count": null,
   "metadata": {},
   "outputs": [],
   "source": [
    "import"
   ]
  },
  {
   "cell_type": "code",
   "execution_count": null,
   "metadata": {},
   "outputs": [],
   "source": [
    "path_sector\n",
    "path_betas\n",
    "path_feats\n",
    "path_out"
   ]
  },
  {
   "cell_type": "code",
   "execution_count": 9,
   "metadata": {},
   "outputs": [],
   "source": [
    "#============================================= Functions ==============================================================\n",
    "def month_to_trimester(x):\n",
    "    if int(x)<4:\n",
    "        return 1\n",
    "    elif int(x)<7:\n",
    "        return 2\n",
    "    elif int(x)<10:\n",
    "        return 3\n",
    "    else:\n",
    "        return 4\n",
    "    \n",
    "def make_labels(x):\n",
    "    q1 = x.R1M_shifted.quantile(0.2)\n",
    "    q2 = x.R1M_shifted.quantile(0.8)\n",
    "    x['Label'] = x.apply(lambda y: -1 + (y.R1M_shifted > q1) + (y.R1M_shifted > q2))\n",
    "    return x"
   ]
  },
  {
   "cell_type": "code",
   "execution_count": 10,
   "metadata": {},
   "outputs": [
    {
     "data": {
      "text/plain": [
       "3"
      ]
     },
     "execution_count": 10,
     "metadata": {},
     "output_type": "execute_result"
    }
   ],
   "source": []
  },
  {
   "cell_type": "code",
   "execution_count": null,
   "metadata": {},
   "outputs": [],
   "source": [
    "#============================================= Data Read ==============================================================\n",
    "sectors = pd.read_csv(path_sector)\n",
    "betas = pd.read_csv(path_betas)\n",
    "feats = pd.read_csv(path_feat)\n",
    "sectors.drop('Unnamed: 0', axis=1, inplace=True)\n",
    "betas.drop('Unnamed: 0', axis=1, inplace=True)\n",
    "feats.drop(['Unnamed: 0','Unnamed: 0.1'], axis=1, inplace=True)"
   ]
  },
  {
   "cell_type": "code",
   "execution_count": null,
   "metadata": {},
   "outputs": [],
   "source": [
    "#============================================= Merge Features =========================================================\n",
    "betas = betas.merge(sectors, how='left', on='stock')\n",
    "df = betas.merge(feats, how='inner', on=['stock','date'])\n",
    "df['MKT_CAP_log'] = df.CUR_MKT_CAP.apply(lambda x: math.log(x))\n",
    "df.drop('CUR_MKT_CAP', axis=1, inplace=True)"
   ]
  },
  {
   "cell_type": "code",
   "execution_count": null,
   "metadata": {},
   "outputs": [],
   "source": [
    "cols = ['DE', 'DEBITDA', 'LTDE', 'LTDEBITDA', 'NDE', 'NDEBITDA', 'EBITCOVER', 'ACCTAF', \n",
    "        'NORMALIZED_ACCRUALS_OP_CF_METHOD', 'DSI_change', 'DSR_change', 'TURNOVER_change', 'BS_TOT_ASSET_change', \n",
    "        'AQI_change', 'DEPI_change', 'GMI_change', 'DEBT_change', 'CAPEXPPE', 'EXTFA', 'PSALES', 'PE', 'POCF', 'PFCF',\n",
    "        'EVSALES', 'EVEBIT', 'EVEBITDA', 'EVEBITDARD', 'EVOCF', 'EVFCF', 'PB', 'PTB', 'RSI_14D', 'RSI_30D', 'ROE', \n",
    "        'ROA', 'GPOA', 'OPRDA', 'ROIC', 'OPRDIC', 'FCFROIC', 'vol_125d', 'vol_250d', 'beta_125d', 'beta_250d', \n",
    "        'vol_beta_ret_20d', 'SPS_trend_4', 'SPS_trend_6', 'SPS_trend_20', 'OCF_trend_4', 'OCF_trend_6',\n",
    "        'OCF_trend_20', 'GPOA_trend_4', 'GPOA_trend_6', 'GPOA_trend_20', 'RETURN_COM_EQU_trend_4',\n",
    "        'RETURN_COM_EQY_trend_6', 'RETURN_COM_EQY_trend_20', 'vol_beta_ret_62d', 'vol_beta_ret_250d', 'MKT_CAP_log', \n",
    "        '12MO_CALL_IMP_VOL', '6MO_CALL_IMP_VOL', 'R12M', 'R3M', 'R1M', 'IREV3M', 'IREV12M', 'IREVVOL1M', \n",
    "        'IREVVOL3M', 'IREVVOL12M']"
   ]
  },
  {
   "cell_type": "code",
   "execution_count": null,
   "metadata": {},
   "outputs": [],
   "source": [
    "#============================================= NAN Cleaning =========================================================\n",
    "df2 = df[['date','stock','INDUSTRY_SECTOR'] + cols].copy()\n",
    "df2[df2==0] = np.nan\n",
    "df2[df2==np.inf] = np.nan\n",
    "df2[df2==-np.inf] = np.nan\n",
    "nanrow = df2[df2.stock.isna()].index\n",
    "df2.drop(nanrow, inplace=True)\n",
    "NAcount = df2.groupby('stock').apply(lambda x: x.isna().mean())\n",
    "final2 = df2.set_index('stock').drop(NAcount > NAratio).sum(axis=1[\n",
    "    (NAcount > NAratio).sum(axis=1) > NAmax\n",
    "].index)"
   ]
  },
  {
   "cell_type": "code",
   "execution_count": null,
   "metadata": {},
   "outputs": [],
   "source": [
    "#============================================= Merge and Label data ===================================================\n",
    "defo = final2.reset_index(.merge(df[['date', 'stock', 'R1M_shifted']], how='left', on=['stock, date']))\n",
    "defo = defo[~defo.R1M_shifted.isna()]\n",
    "defo['trimester'] = defo.date.apply(lambda x: month_to_trimester(x[5:7]))\n",
    "defo['trimester'] = defo.apply(lambda x: x.date[0:4] + x.trimester, axis=1)\n",
    "labeled = defo.groupby(['trimester'], as_index=False).apply(make_labels)\n",
    "labeled.date = labeled.date.apply(lambda x: ''.joijn(x.split('-'))).astype('int')"
   ]
  },
  {
   "cell_type": "code",
   "execution_count": null,
   "metadata": {},
   "outputs": [],
   "source": [
    "labeled.to_csv(path_data)"
   ]
  }
 ],
 "metadata": {
  "kernelspec": {
   "display_name": "Python 3",
   "language": "python",
   "name": "python3"
  },
  "language_info": {
   "codemirror_mode": {
    "name": "ipython",
    "version": 3
   },
   "file_extension": ".py",
   "mimetype": "text/x-python",
   "name": "python",
   "nbconvert_exporter": "python",
   "pygments_lexer": "ipython3",
   "version": "3.6.4"
  }
 },
 "nbformat": 4,
 "nbformat_minor": 2
}
