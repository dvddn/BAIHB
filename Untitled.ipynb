{
 "cells": [
  {
   "cell_type": "code",
   "execution_count": 57,
   "metadata": {},
   "outputs": [],
   "source": [
    "import pickle\n",
    "import pandas as pd"
   ]
  },
  {
   "cell_type": "code",
   "execution_count": 3,
   "metadata": {},
   "outputs": [],
   "source": [
    "with open('results.pkl', 'rb') as handle:\n",
    "    res = pickle.load(handle)"
   ]
  },
  {
   "cell_type": "code",
   "execution_count": 9,
   "metadata": {},
   "outputs": [],
   "source": [
    "losses = res.evals.L"
   ]
  },
  {
   "cell_type": "code",
   "execution_count": 11,
   "metadata": {},
   "outputs": [],
   "source": [
    "import seaborn as sb"
   ]
  },
  {
   "cell_type": "code",
   "execution_count": 20,
   "metadata": {
    "scrolled": true
   },
   "outputs": [
    {
     "data": {
      "text/plain": [
       "[(0.75, 0.85)]"
      ]
     },
     "execution_count": 20,
     "metadata": {},
     "output_type": "execute_result"
    },
    {
     "data": {
      "image/png": "[encoded data removed]",
      "text/plain": [
       "<Figure size 432x288 with 1 Axes>"
      ]
     },
     "metadata": {
      "needs_background": "light"
     },
     "output_type": "display_data"
    }
   ],
   "source": [
    "ax = sb.distplot(losses, bins=100)\n",
    "ax.set(xlim=(0.75, 0.85))"
   ]
  },
  {
   "cell_type": "code",
   "execution_count": 22,
   "metadata": {},
   "outputs": [],
   "source": [
    "etas = [x[-1] for x in res.evals.conf]"
   ]
  },
  {
   "cell_type": "code",
   "execution_count": 23,
   "metadata": {},
   "outputs": [
    {
     "data": {
      "text/plain": [
       "[0.312912457331064,\n",
       " 0.4704929776524686,\n",
       " 0.21196878492713447,\n",
       " 0.44501029391237756,\n",
       " 0.17978667157777226,\n",
       " 0.245402425183441,\n",
       " 0.06369018180109272,\n",
       " 0.21211697709353952,\n",
       " 0.31340846800192734,\n",
       " 0.35965253246804596,\n",
       " 0.17289925026556507,\n",
       " 0.40092101905948296,\n",
       " 0.11259191241764763,\n",
       " 0.4745948684333889,\n",
       " 0.16374141302533676,\n",
       " 0.3008186705862301,\n",
       " 0.2901436029646612,\n",
       " 0.303040012461084,\n",
       " 0.3006872715405199,\n",
       " 0.04820185881539263,\n",
       " 0.4739240981450769,\n",
       " 0.34815377621994775,\n",
       " 0.49434960488337104,\n",
       " 0.09592865283016556,\n",
       " 0.47568125179815285,\n",
       " 0.18278642660303718,\n",
       " 0.1497266034032428,\n",
       " 0.26079563173201026,\n",
       " 0.3747444906771081,\n",
       " 0.3027092832079052,\n",
       " 0.3593859466823952,\n",
       " 0.1542954906932374,\n",
       " 0.3246507715831084,\n",
       " 0.12301921984237954,\n",
       " 0.3073778258301609,\n",
       " 0.45470802556712103,\n",
       " 0.43595551483932016,\n",
       " 0.05785393269570836,\n",
       " 0.018560303107927032,\n",
       " 0.21552603625551708,\n",
       " 0.22207931556018917,\n",
       " 0.15879642372192515,\n",
       " 0.35154184041418063,\n",
       " 0.08187744382200321,\n",
       " 0.4246460680295061,\n",
       " 0.4303608547940966,\n",
       " 0.05021971600402435,\n",
       " 0.41373460519208966,\n",
       " 0.33394742608489203,\n",
       " 0.21901983148372095,\n",
       " 0.2662500060515908,\n",
       " 0.28119704940751494,\n",
       " 0.044369533611089605,\n",
       " 0.161374515673317,\n",
       " 0.17545822849170703,\n",
       " 0.003426620612758345,\n",
       " 0.21425780217028415,\n",
       " 0.20886097385408806,\n",
       " 0.29246772859575504,\n",
       " 0.21359246691861283,\n",
       " 0.16562904120810418,\n",
       " 0.25126621719674047,\n",
       " 0.33224443384712227,\n",
       " 0.04602913007911367,\n",
       " 0.27643988220142335,\n",
       " 0.1767335504895819,\n",
       " 0.17079227407586983,\n",
       " 0.051633990877029336,\n",
       " 0.1297476110149772,\n",
       " 0.2832315788194962,\n",
       " 0.22998573716533952,\n",
       " 0.3281124697896496,\n",
       " 0.3530243081607673,\n",
       " 0.1284695142827378,\n",
       " 0.24204634306134656,\n",
       " 0.19633932702106274,\n",
       " 0.2413832697133642,\n",
       " 0.03936695516850755,\n",
       " 0.35822266009768916,\n",
       " 0.4982532199072634,\n",
       " 0.2897819007757638,\n",
       " 0.24043367237124932,\n",
       " 0.0529477229707537,\n",
       " 0.12271250955761366,\n",
       " 0.29272383943303965,\n",
       " 0.030496837042392314,\n",
       " 0.13701255433572188,\n",
       " 0.4664956438299987,\n",
       " 0.2764942609160454,\n",
       " 0.14299457055889578,\n",
       " 0.09048124977477363,\n",
       " 0.10961287355185319,\n",
       " 0.3889104813931954,\n",
       " 0.2168893582152682,\n",
       " 0.2984831633647512,\n",
       " 0.2305812033240693,\n",
       " 0.24272955986942776,\n",
       " 0.1455364905177815,\n",
       " 0.26720191910122193,\n",
       " 0.22227816983445858,\n",
       " 0.45133984230561164,\n",
       " 0.34799530371165127,\n",
       " 0.4747766459977808,\n",
       " 0.08620903422738152,\n",
       " 0.3134473655225142,\n",
       " 0.10636549602489286,\n",
       " 0.30200672481620794,\n",
       " 0.16913732641994328,\n",
       " 0.38698043443286745,\n",
       " 0.11630742683033493,\n",
       " 0.26415658536774445,\n",
       " 0.3153570992807494,\n",
       " 0.23163376342534092,\n",
       " 0.18297242010305048,\n",
       " 0.4920633627909151,\n",
       " 0.22191147731084346,\n",
       " 0.1492584532645156,\n",
       " 0.12283521826487,\n",
       " 0.007927701545674268,\n",
       " 0.41635921200232817,\n",
       " 0.20830428787575705,\n",
       " 0.23757730245647843,\n",
       " 0.15996445381335825,\n",
       " 0.4747160628726506,\n",
       " 0.24868755987842794,\n",
       " 0.2674631856127484,\n",
       " 0.30878635307443836,\n",
       " 0.13536942623215573,\n",
       " 0.27750833814523057,\n",
       " 0.1229587185703865,\n",
       " 0.16975429893389063,\n",
       " 0.09048894068674554,\n",
       " 0.41714543774876045,\n",
       " 0.18954307219510527,\n",
       " 0.19403195418733654,\n",
       " 0.438109180275807,\n",
       " 0.2430645792120568,\n",
       " 0.08424553126861602,\n",
       " 0.4428674148055669,\n",
       " 0.31562621534595314,\n",
       " 0.05348589011044577,\n",
       " 0.4140923926265709,\n",
       " 0.1997416414255864,\n",
       " 0.07569441600986297,\n",
       " 0.38639676675005624,\n",
       " 0.2372406130284775,\n",
       " 0.3450318188113958,\n",
       " 0.28899985743414547,\n",
       " 0.16787703264312875,\n",
       " 0.21401245964874224,\n",
       " 0.2855417034790693,\n",
       " 0.2297869231230092,\n",
       " 0.2825745362416376,\n",
       " 0.2422456469757554,\n",
       " 0.11618696557701991,\n",
       " 0.3223193430352778,\n",
       " 0.38973125696806504,\n",
       " 0.45125203415235704,\n",
       " 0.055148251524887275,\n",
       " 0.23719788116396337]"
      ]
     },
     "execution_count": 23,
     "metadata": {},
     "output_type": "execute_result"
    }
   ],
   "source": [
    "etas"
   ]
  },
  {
   "cell_type": "code",
   "execution_count": 26,
   "metadata": {
    "scrolled": false
   },
   "outputs": [
    {
     "data": {
      "image/png": "[encoded data removed]",
      "text/plain": [
       "<Figure size 432x288 with 1 Axes>"
      ]
     },
     "metadata": {
      "needs_background": "light"
     },
     "output_type": "display_data"
    }
   ],
   "source": [
    "ax = sb.distplot(etas, bins = 50)"
   ]
  },
  {
   "cell_type": "code",
   "execution_count": 36,
   "metadata": {},
   "outputs": [],
   "source": [
    "losses2 = res.evals[res.evals.etas < 0.01].L"
   ]
  },
  {
   "cell_type": "code",
   "execution_count": 37,
   "metadata": {},
   "outputs": [
    {
     "name": "stderr",
     "output_type": "stream",
     "text": [
      "/home/dine/Documents/environments/ML1/lib/python3.6/site-packages/statsmodels/nonparametric/kde.py:488: RuntimeWarning: invalid value encountered in true_divide\n",
      "  binned = fast_linbin(X, a, b, gridsize) / (delta * nobs)\n",
      "/home/dine/Documents/environments/ML1/lib/python3.6/site-packages/statsmodels/nonparametric/kdetools.py:34: RuntimeWarning: invalid value encountered in double_scalars\n",
      "  FAC1 = 2*(np.pi*bw/RANGE)**2\n"
     ]
    },
    {
     "data": {
      "text/plain": [
       "[(0.75, 0.85)]"
      ]
     },
     "execution_count": 37,
     "metadata": {},
     "output_type": "execute_result"
    },
    {
     "data": {
      "image/png": "[encoded data removed]",
      "text/plain": [
       "<Figure size 432x288 with 1 Axes>"
      ]
     },
     "metadata": {
      "needs_background": "light"
     },
     "output_type": "display_data"
    }
   ],
   "source": [
    "ax = sb.distplot(losses2)\n",
    "ax.set(xlim=(0.75, 0.85))b"
   ]
  },
  {
   "cell_type": "code",
   "execution_count": 47,
   "metadata": {
    "scrolled": true
   },
   "outputs": [
    {
     "data": {
      "text/plain": [
       "count    80.000000\n",
       "mean      0.834256\n",
       "std       0.008566\n",
       "min       0.799939\n",
       "25%       0.831046\n",
       "50%       0.837492\n",
       "75%       0.840663\n",
       "max       0.843323\n",
       "Name: L, dtype: float64"
      ]
     },
     "execution_count": 47,
     "metadata": {},
     "output_type": "execute_result"
    }
   ],
   "source": [
    "res.evals.L[0].describe()"
   ]
  },
  {
   "cell_type": "code",
   "execution_count": 49,
   "metadata": {},
   "outputs": [
    {
     "data": {
      "text/plain": [
       "count    40.000000\n",
       "mean      0.832780\n",
       "std       0.009082\n",
       "min       0.809463\n",
       "25%       0.826691\n",
       "50%       0.835674\n",
       "75%       0.840058\n",
       "max       0.843065\n",
       "Name: L, dtype: float64"
      ]
     },
     "execution_count": 49,
     "metadata": {},
     "output_type": "execute_result"
    }
   ],
   "source": [
    "res.evals.L[1].describe()"
   ]
  },
  {
   "cell_type": "code",
   "execution_count": 50,
   "metadata": {},
   "outputs": [
    {
     "data": {
      "text/plain": [
       "count    20.000000\n",
       "mean      0.809762\n",
       "std       0.074009\n",
       "min       0.500000\n",
       "25%       0.821754\n",
       "50%       0.826085\n",
       "75%       0.834152\n",
       "max       0.841741\n",
       "Name: L, dtype: float64"
      ]
     },
     "execution_count": 50,
     "metadata": {},
     "output_type": "execute_result"
    }
   ],
   "source": [
    "res.evals.L[2].describe()"
   ]
  },
  {
   "cell_type": "code",
   "execution_count": 51,
   "metadata": {},
   "outputs": [
    {
     "data": {
      "text/plain": [
       "count    20.000000\n",
       "mean      0.808378\n",
       "std       0.073286\n",
       "min       0.500000\n",
       "25%       0.814901\n",
       "50%       0.825708\n",
       "75%       0.829493\n",
       "max       0.840833\n",
       "Name: L, dtype: float64"
      ]
     },
     "execution_count": 51,
     "metadata": {},
     "output_type": "execute_result"
    }
   ],
   "source": [
    "res.evals.L[3].describe()"
   ]
  },
  {
   "cell_type": "code",
   "execution_count": 64,
   "metadata": {},
   "outputs": [
    {
     "data": {
      "text/plain": [
       "0.0625"
      ]
     },
     "execution_count": 64,
     "metadata": {},
     "output_type": "execute_result"
    }
   ],
   "source": [
    "(pd.Series([x[-1] for x in res.evals.conf[0]]) < 0.1).mean()"
   ]
  },
  {
   "cell_type": "code",
   "execution_count": 1,
   "metadata": {},
   "outputs": [],
   "source": [
    "from ConfigGenerator import log_uniform\n"
   ]
  },
  {
   "cell_type": "code",
   "execution_count": 51,
   "metadata": {},
   "outputs": [],
   "source": [
    "a = log_uniform(-3, -0.30103)"
   ]
  },
  {
   "cell_type": "code",
   "execution_count": 65,
   "metadata": {},
   "outputs": [
    {
     "data": {
      "text/plain": [
       "0.23589056651446585"
      ]
     },
     "execution_count": 65,
     "metadata": {},
     "output_type": "execute_result"
    }
   ],
   "source": [
    "a.rvs()"
   ]
  },
  {
   "cell_type": "code",
   "execution_count": 65,
   "metadata": {},
   "outputs": [
    {
     "data": {
      "text/plain": [
       "0.175"
      ]
     },
     "execution_count": 65,
     "metadata": {},
     "output_type": "execute_result"
    }
   ],
   "source": [
    "(pd.Series([x[-1] for x in res.evals.conf[1]]) < 0.1).mean()"
   ]
  },
  {
   "cell_type": "code",
   "execution_count": 66,
   "metadata": {},
   "outputs": [
    {
     "data": {
      "text/plain": [
       "0.25"
      ]
     },
     "execution_count": 66,
     "metadata": {},
     "output_type": "execute_result"
    }
   ],
   "source": [
    "(pd.Series([x[-1] for x in res.evals.conf[2]]) < 0.1).mean()"
   ]
  },
  {
   "cell_type": "code",
   "execution_count": 67,
   "metadata": {},
   "outputs": [
    {
     "data": {
      "text/plain": [
       "0.25"
      ]
     },
     "execution_count": 67,
     "metadata": {},
     "output_type": "execute_result"
    }
   ],
   "source": [
    "(pd.Series([x[-1] for x in res.evals.conf[2]]) < 0.1).mean()"
   ]
  }
 ],
 "metadata": {
  "kernelspec": {
   "display_name": "Python 3",
   "language": "python",
   "name": "python3"
  },
  "language_info": {
   "codemirror_mode": {
    "name": "ipython",
    "version": 3
   },
   "file_extension": ".py",
   "mimetype": "text/x-python",
   "name": "python",
   "nbconvert_exporter": "python",
   "pygments_lexer": "ipython3",
   "version": "3.6.7"
  },
  "varInspector": {
   "cols": {
    "lenName": 16,
    "lenType": 16,
    "lenVar": 40
   },
   "kernels_config": {
    "python": {
     "delete_cmd_postfix": "",
     "delete_cmd_prefix": "del ",
     "library": "var_list.py",
     "varRefreshCmd": "print(var_dic_list())"
    },
    "r": {
     "delete_cmd_postfix": ") ",
     "delete_cmd_prefix": "rm(",
     "library": "var_list.r",
     "varRefreshCmd": "cat(var_dic_list()) "
    }
   },
   "types_to_exclude": [
    "module",
    "function",
    "builtin_function_or_method",
    "instance",
    "_Feature"
   ],
   "window_display": false
  }
 },
 "nbformat": 4,
 "nbformat_minor": 2
}
